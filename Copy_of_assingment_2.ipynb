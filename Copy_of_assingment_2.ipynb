{
  "nbformat": 4,
  "nbformat_minor": 0,
  "metadata": {
    "colab": {
      "provenance": []
    },
    "kernelspec": {
      "name": "python3",
      "display_name": "Python 3"
    },
    "language_info": {
      "name": "python"
    }
  },
  "cells": [
    {
      "cell_type": "code",
      "source": [
        "###fUNCTION AND OOPS"
      ],
      "metadata": {
        "id": "avwEDw7Ae6-v"
      },
      "execution_count": null,
      "outputs": []
    },
    {
      "cell_type": "code",
      "execution_count": null,
      "metadata": {
        "colab": {
          "base_uri": "https://localhost:8080/"
        },
        "id": "qeBH3cTD-grT",
        "outputId": "9800f286-397d-4b77-bb38-9992d68b5d9d"
      },
      "outputs": [
        {
          "output_type": "execute_result",
          "data": {
            "text/plain": [
              "8.0"
            ]
          },
          "metadata": {},
          "execution_count": 5
        }
      ],
      "source": [
        "\n",
        "\n",
        "\n",
        "\n",
        "#WRITE THE IMPORTANCE OF FUNCTION\n",
        "\n",
        "#Function is a block of code that perfrom some specific computation.\n",
        "\n",
        "1.#It is reusable.\n",
        "\n",
        "2.#It is modular>> to break the code & keep it simple to learn.\n",
        "\n",
        "3.# It is organizable.\n",
        "\n",
        "4. # It is also efficient.\n",
        "\n",
        "5. # it will be easier to test.\n",
        "\n",
        "6.# It have also improved readability.\n",
        "\n",
        "7.# Used for reduced errors.\n",
        "\n",
        "8.# Enhanced collaboration.\n",
        "\n"
      ]
    },
    {
      "cell_type": "markdown",
      "source": [],
      "metadata": {
        "id": "7FqeuerneuA_"
      }
    },
    {
      "cell_type": "code",
      "source": [
        "##2. WRITE A BASIC FUNCTION TO GREET STUDENT.\n",
        "def greet(n):\n",
        "  print(\"Welcome to class\",n)\n",
        "\n",
        "greet(\"student\")\n",
        "\n"
      ],
      "metadata": {
        "colab": {
          "base_uri": "https://localhost:8080/"
        },
        "id": "2s2i8X3DDVwE",
        "outputId": "8e37fd5e-c40f-4761-95f5-a61e9761ec3a"
      },
      "execution_count": null,
      "outputs": [
        {
          "output_type": "stream",
          "name": "stdout",
          "text": [
            "Welcome to class student\n"
          ]
        }
      ]
    },
    {
      "cell_type": "code",
      "source": [
        "greet(\"Bhushan\")"
      ],
      "metadata": {
        "colab": {
          "base_uri": "https://localhost:8080/"
        },
        "id": "9S0vJzNzF2Cz",
        "outputId": "badf186e-aebf-4777-b62c-8b7a7040ade5"
      },
      "execution_count": null,
      "outputs": [
        {
          "output_type": "stream",
          "name": "stdout",
          "text": [
            "Welcome to class Bhushan\n"
          ]
        }
      ]
    },
    {
      "cell_type": "code",
      "source": [
        "## 3.WHAT IS THE DIFFRENCE BETWEEN PRINT AND RETURN STATEMENT\n",
        "#RETURN:\n",
        "       #1.It is used to exit a function and return a value\n",
        "       #2.It return a value that can be assigned to a variable or used in any expression.\n",
        "       #3.It can be used multiple times in a function but only one value can be returned at a time.\n",
        "       #IExiting the function with return ends the control returns to calling code\n",
        "#PRINT:\n",
        "      #1.It is used to display output to the console.\n",
        "      #2.It displays output to the console but does not return the value\n",
        "      #3.It can be used multiple times in a function but does not affect the function’s return value\n",
        "      #4.The print does not affect program flow and execution continues normally\n",
        "\n",
        "\n"
      ],
      "metadata": {
        "id": "L3bNxYfSF-0H"
      },
      "execution_count": null,
      "outputs": []
    },
    {
      "cell_type": "code",
      "source": [
        "##4.WHAT ARE *args and **kwargs\n",
        "  #*args= It is stand for argument that are passed to the function.\n",
        "  def sum_(*args):\n",
        "    s=0\n",
        "    for i in args:\n",
        "      s= s+i\n",
        "    return s\n",
        "\n",
        " sum_(1,2,3,4,5)\n",
        "  #**kwargs= It is stand for keyword argument which are passed along with the value into the function.\n",
        "  def kwargs_func(**kwargs):\n",
        "    return kwargs\n",
        "kwargs_func(a=1,b=2,c=3)\n"
      ],
      "metadata": {
        "colab": {
          "base_uri": "https://localhost:8080/",
          "height": 106
        },
        "id": "UCaRDBejNAiO",
        "outputId": "bdc89c5c-39c2-4ea8-f29e-91fd01f1327e"
      },
      "execution_count": null,
      "outputs": [
        {
          "output_type": "error",
          "ename": "IndentationError",
          "evalue": "unindent does not match any outer indentation level (<tokenize>, line 9)",
          "traceback": [
            "\u001b[0;36m  File \u001b[0;32m\"<tokenize>\"\u001b[0;36m, line \u001b[0;32m9\u001b[0m\n\u001b[0;31m    sum_(1,2,3,4,5)\u001b[0m\n\u001b[0m    ^\u001b[0m\n\u001b[0;31mIndentationError\u001b[0m\u001b[0;31m:\u001b[0m unindent does not match any outer indentation level\n"
          ]
        }
      ]
    },
    {
      "cell_type": "code",
      "source": [
        "## 5.EXPLAIN THE ITERATOR FUNCTION.\n",
        "#.. It is an object is used to iterate over a iterable\n",
        "#object like as list,tuple,dict,string & sets.\n"
      ],
      "metadata": {
        "id": "PYrj19IiNeWu"
      },
      "execution_count": null,
      "outputs": []
    },
    {
      "cell_type": "code",
      "source": [
        "##6.WRITE A CODE THAT GENERATE THE SQUARE OF NUMBERS 1 TO N USING A GENERATOR FUNCTION.\n",
        "def square_number(n):\n",
        "  result=[]\n",
        "  for i in range(1,n+1):\n",
        "    result.append(i**2)\n",
        "  return result\n",
        "square_number(10)"
      ],
      "metadata": {
        "colab": {
          "base_uri": "https://localhost:8080/"
        },
        "id": "ROGfyCZ9Pznx",
        "outputId": "edb3c935-fb63-4071-b635-2a01194ed38a"
      },
      "execution_count": null,
      "outputs": [
        {
          "output_type": "execute_result",
          "data": {
            "text/plain": [
              "[1, 4, 9, 16, 25, 36, 49, 64, 81, 100]"
            ]
          },
          "metadata": {},
          "execution_count": 19
        }
      ]
    },
    {
      "cell_type": "code",
      "source": [
        "##7.WRITE A CODE THAT GENERATES PALINDROMIC NUMBERS UP TP n USING GENERATOR.\n",
        "def generate_palindromes(n):\n",
        "    for i in range(1, n+1):\n",
        "        if str(i) == str(i)[::-1]:  # Check if the number is equal to its reverse\n",
        "            yield i\n",
        "\n",
        "\n",
        "n = 100\n",
        "for palindrome in generate_palindromes(n):\n",
        "    print(palindrome)\n"
      ],
      "metadata": {
        "id": "I7-PrcpcQR8R",
        "colab": {
          "base_uri": "https://localhost:8080/"
        },
        "outputId": "a98a2117-a265-49ed-ce27-d2eaa3b3960f"
      },
      "execution_count": null,
      "outputs": [
        {
          "output_type": "stream",
          "name": "stdout",
          "text": [
            "1\n",
            "2\n",
            "3\n",
            "4\n",
            "5\n",
            "6\n",
            "7\n",
            "8\n",
            "9\n",
            "11\n",
            "22\n",
            "33\n",
            "44\n",
            "55\n",
            "66\n",
            "77\n",
            "88\n",
            "99\n"
          ]
        }
      ]
    },
    {
      "cell_type": "code",
      "source": [
        "## 8.WRITE A CODE THAT GENERATES EVEN NUMBERS FROM 2 TO n USING A GENERATOR'\n",
        "def generate_even_numbers(n):\n",
        "    for i in range(2, n+1, 2):\n",
        "        yield i\n",
        "\n",
        "\n",
        "n = 10\n",
        "for even_number in generate_even_numbers(n):\n",
        "    print(even_number)\n"
      ],
      "metadata": {
        "colab": {
          "base_uri": "https://localhost:8080/"
        },
        "id": "yxiY7Qbn2A9V",
        "outputId": "eb889ed3-d38d-439d-9bf3-1d0d33cb7d8b"
      },
      "execution_count": null,
      "outputs": [
        {
          "output_type": "stream",
          "name": "stdout",
          "text": [
            "2\n",
            "4\n",
            "6\n",
            "8\n",
            "10\n"
          ]
        }
      ]
    },
    {
      "cell_type": "code",
      "source": [
        "## 9.WRITE A CODE THAT GENERATES POWERS OF TWO UP TO n USING A GENERATOR.\n",
        "def generate_powers_of_two(n):\n",
        "    power = 1\n",
        "    for _ in range(n):\n",
        "        yield power\n",
        "        power *= 2\n",
        "\n",
        "\n",
        "n = 5\n",
        "for power in generate_powers_of_two(n):\n",
        "    print(power)"
      ],
      "metadata": {
        "colab": {
          "base_uri": "https://localhost:8080/"
        },
        "id": "yaUCrQaE2N6m",
        "outputId": "223d00df-35a0-4a73-dc0f-2506cab2707a"
      },
      "execution_count": null,
      "outputs": [
        {
          "output_type": "stream",
          "name": "stdout",
          "text": [
            "1\n",
            "2\n",
            "4\n",
            "8\n",
            "16\n"
          ]
        }
      ]
    },
    {
      "cell_type": "code",
      "source": [
        "## 10.WRITE A CODE THAT GENERATES PRIME NUMBERS UP TO n USING A GENERATOR.\n",
        "def generate_primes(n):\n",
        "    for i in range(1, n+1):\n",
        "        for j in range(2, i):\n",
        "            if i % j == 0:\n",
        "                break\n",
        "        else:\n",
        "            yield i\n",
        "\n",
        "n=10\n",
        "for prime in generate_primes(n):\n",
        "    print(prime)"
      ],
      "metadata": {
        "colab": {
          "base_uri": "https://localhost:8080/"
        },
        "id": "YFrWPslJ3TVg",
        "outputId": "f5cab3d6-9535-4e9d-fb5e-614059e7d0ba"
      },
      "execution_count": null,
      "outputs": [
        {
          "output_type": "stream",
          "name": "stdout",
          "text": [
            "1\n",
            "2\n",
            "3\n",
            "5\n",
            "7\n"
          ]
        }
      ]
    },
    {
      "cell_type": "code",
      "source": [
        "## 11.WRITE A CODE THAT USES A LAMBDA FUNCTION TO CALCULATE THE SUM IF TWO NUMBERS.\n",
        "sum_lambda = lambda a, b: a + b\n",
        "\n",
        "result = sum_lambda(10, 5)\n",
        "print(\"The sum is:\", result)\n"
      ],
      "metadata": {
        "colab": {
          "base_uri": "https://localhost:8080/"
        },
        "id": "5fAS8A3h31r-",
        "outputId": "4c568734-b6f2-4438-f392-09ca63088caf"
      },
      "execution_count": null,
      "outputs": [
        {
          "output_type": "stream",
          "name": "stdout",
          "text": [
            "The sum is: 15\n"
          ]
        }
      ]
    },
    {
      "cell_type": "code",
      "source": [
        "## 12.WRITE A CODE THAT USES A LAMBDA FUNCTION TO CALCULATE THE SQUARE OF A GIVEN NUMBER.\n",
        "square_lambda = lambda x: x ** 2\n",
        "\n",
        "number = 5\n",
        "result = square_lambda(number)\n",
        "print(\"The square of\", number, \"is:\", result)\n"
      ],
      "metadata": {
        "colab": {
          "base_uri": "https://localhost:8080/"
        },
        "id": "gbWMlsp950SJ",
        "outputId": "ac4c4660-6c25-4e1e-a50c-13f9dde1a57c"
      },
      "execution_count": null,
      "outputs": [
        {
          "output_type": "stream",
          "name": "stdout",
          "text": [
            "The square of 5 is: 25\n"
          ]
        }
      ]
    },
    {
      "cell_type": "code",
      "source": [
        "##. 13.WRITE A CODE THAT USES LAMBDA FUNCTIONTO CHECK WHETHER A GIVEN NUMBER IS EVEN OR ODD.\n",
        "is_even_lambda = lambda x: x % 2 == 0\n",
        "\n",
        "number = 7\n",
        "if is_even_lambda(number):\n",
        "    print(number, \"is even.\")\n",
        "else:\n",
        "    print(number, \"is odd.\")"
      ],
      "metadata": {
        "colab": {
          "base_uri": "https://localhost:8080/"
        },
        "id": "gDeKw5o26RYy",
        "outputId": "f6c569f0-aa39-4222-de10-0d12c9d57f11"
      },
      "execution_count": null,
      "outputs": [
        {
          "output_type": "stream",
          "name": "stdout",
          "text": [
            "7 is odd.\n"
          ]
        }
      ]
    },
    {
      "cell_type": "code",
      "source": [
        "##. 13.WRITE A CODE THAT USES LAMBDA FUNCTIONTO CHECK WHETHER A GIVEN NUMBER IS EVEN OR ODD.\n",
        "is_even_lambda = lambda x: x % 2 == 0\n",
        "\n",
        "number = 7\n",
        "if is_even_lambda(number):\n",
        "    print(number, \"is even.\")\n",
        "else:\n",
        "    print(number, \"is odd.\")"
      ],
      "metadata": {
        "colab": {
          "base_uri": "https://localhost:8080/"
        },
        "id": "2ojh5C586mAj",
        "outputId": "529e5e83-221c-43bf-a06b-152e3a159978"
      },
      "execution_count": null,
      "outputs": [
        {
          "output_type": "stream",
          "name": "stdout",
          "text": [
            "7 is odd.\n"
          ]
        }
      ]
    },
    {
      "cell_type": "code",
      "source": [
        "##. 15.WRITE A CODE THAT USES A LAMBDA FUNCTION TO FIND THE MAXIMUM OF THREE GIVEN NUMBERS.\n",
        "find_max_lambda = lambda a, b, c: max(a, b, c)\n",
        "\n",
        "num1 = 10\n",
        "num2 = 5\n",
        "num3 = 15\n",
        "max_number = find_max_lambda(num1, num2, num3)\n",
        "print(\"The maximum number is:\", max_number)"
      ],
      "metadata": {
        "colab": {
          "base_uri": "https://localhost:8080/"
        },
        "id": "Gj7sY1e37Gh6",
        "outputId": "698209bd-f510-4ae7-d507-788f329c9073"
      },
      "execution_count": null,
      "outputs": [
        {
          "output_type": "stream",
          "name": "stdout",
          "text": [
            "The maximum number is: 15\n"
          ]
        }
      ]
    },
    {
      "cell_type": "code",
      "source": [
        "##. 16.WRITE A CODE THAT GENERATES THE SQUARES OF EVEN NUMBERS FROM A GIVEN LIST.\n",
        "def even_squares(numbers):\n",
        "    for num in numbers:\n",
        "        if num % 2 == 0:\n",
        "            yield num ** 2\n",
        "\n",
        "numbers = [1, 2, 3, 4, 5, 6, 7, 8, 9, 10]\n",
        "squares = even_squares(numbers)\n",
        "\n",
        "for square in squares:\n",
        "    print(square)"
      ],
      "metadata": {
        "colab": {
          "base_uri": "https://localhost:8080/"
        },
        "id": "j8hWaK4o7YpC",
        "outputId": "036672fb-27e0-4b13-f390-52dada0b3767"
      },
      "execution_count": null,
      "outputs": [
        {
          "output_type": "stream",
          "name": "stdout",
          "text": [
            "4\n",
            "16\n",
            "36\n",
            "64\n",
            "100\n"
          ]
        }
      ]
    },
    {
      "cell_type": "code",
      "source": [
        "##.17. WRITE A CODE THAT CALCULATE THE PRODUCT OF POSITIVE NUMBERS FROM A GIVEN LIST.\n",
        "def calculate_product(numbers):\n",
        "    product = 1\n",
        "    for num in numbers:\n",
        "        if num > 0:\n",
        "            product *= num\n",
        "    return product\n",
        "\n",
        "numbers = [1, 2, -3, 4, -5, 6]\n",
        "result = calculate_product(numbers)\n",
        "print(\"The product of positive numbers is:\", result)"
      ],
      "metadata": {
        "colab": {
          "base_uri": "https://localhost:8080/"
        },
        "id": "ccja2A8R8MdV",
        "outputId": "f05aa0e4-5c92-4247-823c-32c703a4e763"
      },
      "execution_count": null,
      "outputs": [
        {
          "output_type": "stream",
          "name": "stdout",
          "text": [
            "The product of positive numbers is: 48\n"
          ]
        }
      ]
    },
    {
      "cell_type": "code",
      "source": [
        "##.18. WRITE A CODE THAT DOUBLES THE VALUES OF ODD NUMBERS FROM A GIVEN LIST.\n",
        "def double_odd_numbers(numbers):\n",
        "    return [num * 2 for num in numbers if num % 2 != 0]\n",
        "\n",
        "numbers = [1, 2, 3, 4, 5, 6, 7, 8, 9, 10]\n",
        "result = double_odd_numbers(numbers)\n",
        "print(\"Doubled odd numbers:\", result)"
      ],
      "metadata": {
        "colab": {
          "base_uri": "https://localhost:8080/"
        },
        "id": "5whELjzn8sL9",
        "outputId": "f27e72d0-1f71-4686-b27a-6f0b0be900ca"
      },
      "execution_count": null,
      "outputs": [
        {
          "output_type": "stream",
          "name": "stdout",
          "text": [
            "Doubled odd numbers: [2, 6, 10, 14, 18]\n"
          ]
        }
      ]
    },
    {
      "cell_type": "code",
      "source": [
        "##.19. WRITE A CODE THAT CALCULATES THE SUM OF CUBES OF NUMBERS FROM A GIVEN LIST.\n",
        "def calculate_sum_of_cubes(numbers):\n",
        "    return sum([num ** 3 for num in numbers])\n",
        "\n",
        "numbers = [1, 2, 3, 4, 5]\n",
        "result = calculate_sum_of_cubes(numbers)\n",
        "print(\"Sum of cubes:\", result)"
      ],
      "metadata": {
        "colab": {
          "base_uri": "https://localhost:8080/"
        },
        "id": "BYu4yq4Q9Koa",
        "outputId": "5a40357a-550a-412d-f4e0-37cbbae87f71"
      },
      "execution_count": null,
      "outputs": [
        {
          "output_type": "stream",
          "name": "stdout",
          "text": [
            "Sum of cubes: 225\n"
          ]
        }
      ]
    },
    {
      "cell_type": "code",
      "source": [
        "##.20. WRITE A CODES THAT FILTERS OUT PRIME NUMBERS FROM A GIVEN LIST.\n",
        "def is_prime(num):\n",
        "    if num < 2:\n",
        "        return False\n",
        "    for i in range(2, int(num ** 0.5) + 1):\n",
        "        if num % i == 0:\n",
        "            return False\n",
        "    return True\n",
        "\n",
        "def filter_primes(numbers):\n",
        "    return [num for num in numbers if is_prime(num)]\n",
        "\n",
        "numbers = [1, 2, 3, 4, 5, 6, 7, 8, 9, 10]\n",
        "result = filter_primes(numbers)\n",
        "print(\"Prime numbers:\", result)"
      ],
      "metadata": {
        "colab": {
          "base_uri": "https://localhost:8080/"
        },
        "id": "l6OBIsiZ9asW",
        "outputId": "e4fbb821-d443-4965-8ad4-2ff28cb70bcb"
      },
      "execution_count": null,
      "outputs": [
        {
          "output_type": "stream",
          "name": "stdout",
          "text": [
            "Prime numbers: [2, 3, 5, 7]\n"
          ]
        }
      ]
    },
    {
      "cell_type": "code",
      "source": [
        "##.21. WRITE A CODE THAT USES A LAMBDA FUNCTION TO CALCULATE THE SQUARE OF A GIVEN NUMBERS.\n",
        "square_lambda = lambda x: x ** 2\n",
        "\n",
        "numbers = [1, 2, 3, 4, 5]\n",
        "squared_numbers = list(map(square_lambda, numbers))\n",
        "print(\"Squared numbers:\", squared_numbers)\n"
      ],
      "metadata": {
        "colab": {
          "base_uri": "https://localhost:8080/"
        },
        "id": "Ko72vKlu-DYg",
        "outputId": "1d66c08d-f78a-4972-bf42-86860d176c92"
      },
      "execution_count": null,
      "outputs": [
        {
          "output_type": "stream",
          "name": "stdout",
          "text": [
            "Squared numbers: [1, 4, 9, 16, 25]\n"
          ]
        }
      ]
    },
    {
      "cell_type": "code",
      "source": [
        "##.22. WRITE A CODE THAT USES LAMBDA FUNCTION TO CALCULATE THE SQUARE OF A GIVEN  NUMBER.\n",
        "square_lambda = lambda x: x ** 2\n",
        "\n",
        "number = 5\n",
        "result = square_lambda(number)\n",
        "print(\"The square of\", number, \"is:\", result)"
      ],
      "metadata": {
        "colab": {
          "base_uri": "https://localhost:8080/"
        },
        "id": "-3icAPhg-tST",
        "outputId": "35176779-a5eb-4fc2-d299-d7a5cd08e340"
      },
      "execution_count": null,
      "outputs": [
        {
          "output_type": "stream",
          "name": "stdout",
          "text": [
            "The square of 5 is: 25\n"
          ]
        }
      ]
    },
    {
      "cell_type": "code",
      "source": [
        "##.23. WRITE A CODE THAT USES A LAMBDA FUNCTION TO CHECK WHETHER A GIVEN NUMBER IS EVEN OR ODD.\n",
        "is_even_lambda = lambda x: x % 2 == 0\n",
        "\n",
        "number = 7\n",
        "if is_even_lambda(number):\n",
        "    print(number, \"is even.\")\n",
        "else:\n",
        "    print(number, \"is odd.\")"
      ],
      "metadata": {
        "colab": {
          "base_uri": "https://localhost:8080/"
        },
        "id": "bk7YQz8z_PDZ",
        "outputId": "42cacf41-de83-4ee3-b25d-be36296e5f37"
      },
      "execution_count": null,
      "outputs": [
        {
          "output_type": "stream",
          "name": "stdout",
          "text": [
            "7 is odd.\n"
          ]
        }
      ]
    },
    {
      "cell_type": "code",
      "source": [
        "##.24.WRITE A CODE THAT TO USES LAMBDA FUNCTION TO CONCATENATE TWO STRINGS.\n",
        "concatenate_lambda = lambda str1, str2: str1 + str2\n",
        "\n",
        "string1 = \"Hello\"\n",
        "string2 = \"World\"\n",
        "result = concatenate_lambda(string1, string2)\n",
        "print(\"Concatenated string:\", result)"
      ],
      "metadata": {
        "colab": {
          "base_uri": "https://localhost:8080/"
        },
        "id": "gt23FV_m_r3P",
        "outputId": "68a70c66-b528-4460-d69e-de5056389a3b"
      },
      "execution_count": null,
      "outputs": [
        {
          "output_type": "stream",
          "name": "stdout",
          "text": [
            "Concatenated string: HelloWorld\n"
          ]
        }
      ]
    },
    {
      "cell_type": "code",
      "source": [
        "##.25. WRITE A CODE THAT USES A LAMBDA FUNCTION TO FIND THE MAXIMUM OF THREE GIVEN NUMBERS.\n",
        "find_max_lambda = lambda a, b, c: max(a, b, c)\n",
        "\n",
        "num1 = 10\n",
        "num2 = 5\n",
        "num3 = 15\n",
        "max_number = find_max_lambda(num1, num2, num3)\n",
        "print(\"The maximum number is:\", max_number)\n",
        "\n"
      ],
      "metadata": {
        "colab": {
          "base_uri": "https://localhost:8080/"
        },
        "id": "C532wz0gAUxI",
        "outputId": "1af67e85-998f-474c-efd0-2a04c243d347"
      },
      "execution_count": null,
      "outputs": [
        {
          "output_type": "stream",
          "name": "stdout",
          "text": [
            "The maximum number is: 15\n"
          ]
        }
      ]
    },
    {
      "cell_type": "code",
      "source": [
        "##.26. WHAT IS ENCAPSULATION IN OOP\n",
        "Encapsulation is one of the fundamental principles of Object-Oriented Programming (OOP).\n",
        " It refers to the bundling of data (variables) and methods (functions) that operate on\n",
        "  the data into a single unit or object. In encapsulation, the object's internal state is hidden\n",
        " from the outside world and can only be accessed or modified through a defined interface\n",
        " (usually through public methods like getters and setters).\n",
        "\n",
        "Key Aspects of Encapsulation:\n",
        "Data Hiding: The internal details (such as the object's attributes) are not accessible directly\n",
        "from outside the object. This is typically achieved using access modifiers (like private or protected in\n",
        "many programming languages).\n",
        "\n",
        "Control of Access: Encapsulation allows controlling how the data is accessed or modified,\n",
        "which improves security and reduces unintended interference.\n",
        "\n",
        "Maintaining Integrity: By restricting direct access to the internal state,\n",
        "encapsulation helps maintain the integrity of the data, as only specific methods\n",
        "(e.g., validation methods) can modify it.\n"
      ],
      "metadata": {
        "id": "C9WzmmyrAsFm"
      },
      "execution_count": null,
      "outputs": []
    },
    {
      "cell_type": "code",
      "source": [
        "##.27.EXPLAIN THE USE OF ACCESS MODIFIERS IN PYTHON CLASSES\n",
        "1.PUBLIC MEMBERS\n",
        "Syntax: Variables and methods that do not have a special prefix are considered public.\n",
        "Access: Public members can be accessed both inside and outside the class.\n",
        "Usage: They are used when you want to make attributes and methods available everywhere without restriction\n",
        "\n",
        "2.Private Members:\n",
        "\n",
        "Syntax: Members prefixed with a double underscore (__) are considered private.\n",
        "Access: Private members are intended to be accessed only within the class. They cannot be accessed directly from outside the class.\n",
        "Usage: Use private members to hide details of the implementation that should not be exposed outside the class\n",
        "\n",
        "3.Protected Members:\n",
        "\n",
        "Syntax: Members prefixed with a single underscore (_) are considered protected.\n",
        "Access: Protected members are meant to be accessed only within the class and its subclasses. This is just a convention and does not enforce strict access control. Developers are encouraged to treat these members as non-public but accessible within derived classes.\n",
        "Usage: Use protected members when you want them accessible to subclasses but not outside the class hierarchy\n"
      ],
      "metadata": {
        "id": "ePRwYYws51rN"
      },
      "execution_count": null,
      "outputs": []
    },
    {
      "cell_type": "code",
      "source": [
        "##.28.WHAT IS INHERITANCE IN OOP\n",
        "Inheritance is a fundamental concept in Object-Oriented Programming (OOP) that allows a class (called the child class or subclass) to inherit properties and behaviors (attributes and methods) from another class (called the parent class or superclass). This promotes code reusability and helps in organizing code in a hierarchical manner.\n",
        "\n",
        "Key Concepts of Inheritance:\n",
        "Parent Class (Superclass): The class that is being inherited from.\n",
        "Child Class (Subclass): The class that inherits from the parent class and can add new attributes or methods, or override existing ones.\n",
        "Reusability: Inheritance allows a subclass to reuse the code in the parent class, reducing redundancy.\n",
        "Extensibility: A subclass can extend the parent class by adding new methods or attributes or by modifying (overriding) the existing methods."
      ],
      "metadata": {
        "id": "k0BmH2cC6ndT"
      },
      "execution_count": null,
      "outputs": []
    },
    {
      "cell_type": "code",
      "source": [
        "##.29.DEFINE POLYMORPHISM IN OOP.\n",
        "Polymorphism in Object-Oriented Programming (OOP) refers to the ability of different classes to be treated as instances of the same class through a common interface, typically by having methods with the same name but different implementations. In Python, polymorphism allows objects of different types to be treated interchangeably if they implement methods with the same name or follow a shared structure.\n"
      ],
      "metadata": {
        "id": "E27OK3OD6v-c"
      },
      "execution_count": null,
      "outputs": []
    },
    {
      "cell_type": "code",
      "source": [
        "##.30.EXPLAIN METHOD OVERRIDING IN PYTHON.\n",
        "Method overriding in Python is a feature of inheritance in Object-Oriented Programming (OOP), where a subclass provides a specific implementation of a method that is already defined in its parent class. The subclass method overrides or replaces the parent class method, allowing the child class to provide behavior that is more specific or relevant to it.\n"
      ],
      "metadata": {
        "id": "7tA8Kt5r8EoB"
      },
      "execution_count": null,
      "outputs": []
    },
    {
      "cell_type": "code",
      "source": [
        "##.31.DEFINE A PARENT CLASS ANIMAL WITH A METHOD make_sound that print \"Generic animal sound\".Create a child class DOG INHERITING FROM ANIMAL WITH A METHOD_SOUND THAT PRINTS \"WOOF\"\n",
        "# Parent class\n",
        "class Animal:\n",
        "    def make_sound(self):\n",
        "        print(\"Generic animal sound.\")\n",
        "\n",
        "\n",
        "class Dog(Animal):\n",
        "\n",
        "    def make_sound(self):\n",
        "        print(\"Woof.\")\n",
        "\n",
        "animal = Animal()\n",
        "animal.make_sound()\n",
        "\n",
        "dog = Dog()\n",
        "dog.make_sound()\n"
      ],
      "metadata": {
        "id": "EzoJlFfm8M_-",
        "colab": {
          "base_uri": "https://localhost:8080/"
        },
        "outputId": "206d7400-30aa-407a-bca6-8c5f083a09a8"
      },
      "execution_count": null,
      "outputs": [
        {
          "output_type": "stream",
          "name": "stdout",
          "text": [
            "Generic animal sound.\n",
            "Woof.\n"
          ]
        }
      ]
    },
    {
      "cell_type": "code",
      "source": [
        "##.32.DEFINE A METHOD MOVIE IN THE ANIMAL CLASS THAT PRINTS \"ANIMAL MOVES\". OVVERIDES THE MOVE METHOD IN THE DOG CLASS TO PRINT \"DOG RUNS.\"\n",
        "class Animal:\n",
        "    def move(self):\n",
        "        print(\"Animal moves.\")\n",
        "\n",
        "class Dog(Animal):\n",
        "    def move(self):\n",
        "        print(\"Dog runs.\")\n",
        "\n",
        "animal = Animal()\n",
        "animal.move()\n",
        "\n",
        "dog = Dog()\n",
        "dog.move()"
      ],
      "metadata": {
        "id": "pE4NZ0f6-yxV",
        "colab": {
          "base_uri": "https://localhost:8080/"
        },
        "outputId": "d2d08d1b-57c4-458f-dd55-e4a69834d8f9"
      },
      "execution_count": null,
      "outputs": [
        {
          "output_type": "stream",
          "name": "stdout",
          "text": [
            "Animal moves.\n",
            "Dog runs.\n"
          ]
        }
      ]
    },
    {
      "cell_type": "code",
      "source": [
        "##.33.CREATE A CLASS MAMMAL WITH A METHOD REPRODUCE THAT PRINT \"GIVING BRTHS TO LIVE YOUNG\". CREATE A CLASS DOGMAMMAL INHERITANG FROM BOTH DOG AND MAMMAL\n",
        "class Mammal:\n",
        "    def reproduce(self):\n",
        "        print(\"Giving birth to live young.\")\n",
        "\n",
        "class DogMammal(Dog, Mammal):\n",
        "    pass\n",
        "\n",
        "dog_mammal = DogMammal()\n",
        "dog_mammal.reproduce()"
      ],
      "metadata": {
        "id": "mY8d0Z53ABfv",
        "colab": {
          "base_uri": "https://localhost:8080/"
        },
        "outputId": "8f76deb7-9671-4b20-a86e-85f62ffbb063"
      },
      "execution_count": null,
      "outputs": [
        {
          "output_type": "stream",
          "name": "stdout",
          "text": [
            "Giving birth to live young.\n"
          ]
        }
      ]
    },
    {
      "cell_type": "code",
      "source": [
        "##.34.CREATE A CLASS GERMANSHEPHERD INHERITING FROM DOG AND OVERIDE THE MAKE_SOUND METHOD TO PRINT \"BARK\"\n",
        "class GermanShepherd(Dog):\n",
        "    def make_sound(self):\n",
        "        print(\"Bark\")\n",
        "\n",
        "german_shepherd = GermanShepherd()\n",
        "german_shepherd.make_sound()"
      ],
      "metadata": {
        "id": "UOoWiw1qB3zK",
        "colab": {
          "base_uri": "https://localhost:8080/"
        },
        "outputId": "7b4b658f-0c17-42a5-ac38-9c1efab8ab1d"
      },
      "execution_count": null,
      "outputs": [
        {
          "output_type": "stream",
          "name": "stdout",
          "text": [
            "Bark\n"
          ]
        }
      ]
    },
    {
      "cell_type": "code",
      "source": [
        "## 35.DEFINE CONSTRUCTORS IN BOTH THE ANIMAL AND DOG CLASSES WITH DIFFRENT INITIALIZATION PARAMETER.\n",
        "class Animal:\n",
        "    def __init__(self, name):\n",
        "        self.name = name\n",
        "\n",
        "    def make_sound(self):\n",
        "        print(\"Generic animal sound.\")\n",
        "\n",
        "\n",
        "class Dog(Animal):\n",
        "    def __init__(self, name, breed):\n",
        "        super().__init__(name)\n",
        "        self.breed = breed\n",
        "\n",
        "    def make_sound(self):\n",
        "        print(\"Woof.\")\n",
        "\n",
        "    def show_info(self):\n",
        "        print(f\"Name: {self.name}, Breed: {self.breed}\")\n",
        "\n",
        "animal = Animal(\"Generic Animal\")\n",
        "animal.make_sound()\n",
        "\n",
        "dog = Dog(\"Buddy\", \"Golden Retriever\")\n",
        "dog.make_sound()\n",
        "dog.show_info()\n"
      ],
      "metadata": {
        "id": "6mBRN0bZCt8f",
        "colab": {
          "base_uri": "https://localhost:8080/"
        },
        "outputId": "e49d5da6-eaf5-4e49-8897-47bb06735420"
      },
      "execution_count": null,
      "outputs": [
        {
          "output_type": "stream",
          "name": "stdout",
          "text": [
            "Generic animal sound.\n",
            "Woof.\n",
            "Name: Buddy, Breed: Golden Retriever\n"
          ]
        }
      ]
    },
    {
      "cell_type": "code",
      "source": [
        "##.36.WHAT IS ABSTRACTION IN PYTHON ? HOW IS IT IMPLEMENTED ?\n",
        "Abstraction in Python (and OOP in general) is the concept of hiding the complex implementation details\n",
        "and showing only the essential features of an object. It focuses on exposing only relevant details and\n",
        "functionality to the user while keeping the internal workings hidden, thereby reducing complexity and\n",
        "increasing efficiency. In Python, abstraction is typically achieved using abstract classes and\n",
        "interfaces.\n"
      ],
      "metadata": {
        "id": "PoD4NECxDxyZ"
      },
      "execution_count": null,
      "outputs": []
    },
    {
      "cell_type": "code",
      "source": [
        "##. 37.EXPLAIN THE IMPORTANCE OF ABSTRACTION IN OBJECT-ORIENTED PROGRAMING.\n",
        "Abstraction is one of the key principles of Object-Oriented Programming (OOP). It plays a crucial role\n",
        "in designing and implementing efficient, scalable, and maintainable software systems. By hiding\n",
        "complex implementation details and exposing only the necessary parts, abstraction simplifies code\n",
        "and makes it easier for developers to focus on high-level functionality"
      ],
      "metadata": {
        "id": "-rErZDNQE9ve"
      },
      "execution_count": null,
      "outputs": []
    },
    {
      "cell_type": "code",
      "source": [
        "##.38. HOW ARE ABSTRACT METHOD DIFFRENT FROM REGULAR METHOD IN PYTHON?\n",
        "In Python, abstract methods and regular methods serve different purposes and have distinct\n",
        "characteristics, especially in the context of object-oriented programming (OOP)."
      ],
      "metadata": {
        "id": "8xflX0b-GSbQ"
      },
      "execution_count": null,
      "outputs": []
    },
    {
      "cell_type": "code",
      "source": [
        "##.39. HOW CAN YOU ACHIVE ABSTRACTION USNING INTERFACE IN PYTHON\n",
        "In Python, you can achieve abstraction using interfaces by defining a set of methods that a class\n",
        "must implement. Although Python does not have a dedicated interface keyword like some other\n",
        "languages (such as Java), you can use abstract base classes (ABCs) from the abc module to define a\n",
        "similar concept."
      ],
      "metadata": {
        "id": "SO0FEIHTGkQ5"
      },
      "execution_count": null,
      "outputs": []
    },
    {
      "cell_type": "code",
      "source": [
        "##. 40.CAN YOU PROVIDE AN EXAMPLE OF HOW ABSTRACTION CAN BE UTILIZED TO CREATE A COMMAN INTERFACE FOR A GROUP OF RELATED CLASSES IN PYHTON?.\n",
        "#ertainly! Abstraction can be utilized to create a common interface for a group of related classes\n",
        "#by defining an abstract base class with abstract methods that all subclasses must implement. This\n",
        "#common interface ensures that different classes conform to the same structure, making it easier to\n",
        "#interact with them uniformly.\n",
        "from abc import ABC, abstractmethod\n",
        "\n",
        "class PaymentMethod(ABC):\n",
        "    @abstractmethod\n",
        "    def authorize_payment(self, amount):\n",
        "        \"\"\"Authorize a payment of the specified amount.\"\"\"\n",
        "        pass\n",
        "\n",
        "    @abstractmethod\n",
        "    def process_payment(self, amount):\n",
        "        \"\"\"Process a payment of the specified amount.\"\"\"\n",
        "        pass\n"
      ],
      "metadata": {
        "id": "45_MdT8PG5k_"
      },
      "execution_count": null,
      "outputs": []
    },
    {
      "cell_type": "code",
      "source": [
        "##.41.HOW DOES PYTHON ACHIEVE POLYMORPHISM THROUGH METHOD OVERRIDING\n",
        "#Method overriding is a key feature that allows polymorphism in object-oriented programming (OOP).\n",
        "#It occurs when a subclass provides a specific implementation of a method that is already defined\n",
        "#in its superclass. This enables the subclass to tailor or extend the behavior of the method\n",
        "#according to its needs while retaining the method signature."
      ],
      "metadata": {
        "id": "HZqGdrbyfJ0W"
      },
      "execution_count": null,
      "outputs": []
    },
    {
      "cell_type": "code",
      "source": [
        "##.42.DEFINE A BASE CLASS WITH METHOD AND A SUBCLASS THAT OVERIDES METHOD.\n",
        "class Vehicle:\n",
        "    def start_engine(self):\n",
        "        \"\"\"Base class method to start the engine.\"\"\"\n",
        "        print(\"Starting engine of the vehicle...\")\n",
        "\n",
        "class Car(Vehicle):\n",
        "    def start_engine(self):\n",
        "        \"\"\"Subclass method that overrides the base class method.\"\"\"\n",
        "        print(\"Starting engine of the car... Vroom!\")\n",
        "\n",
        "class Motorcycle(Vehicle):\n",
        "    def start_engine(self):\n",
        "        \"\"\"Subclass method that overrides the base class method.\"\"\"\n",
        "        print(\"Starting engine of the motorcycle... Vroooom!\")\n",
        "\n",
        "vehicle = Vehicle()\n",
        "car = Car()\n",
        "motorcycle = Motorcycle()\n",
        "\n",
        "vehicle.start_engine()\n",
        "car.start_engine()\n",
        "motorcycle.start_engine()\n"
      ],
      "metadata": {
        "colab": {
          "base_uri": "https://localhost:8080/"
        },
        "id": "5JEQxiyJgUfd",
        "outputId": "dc880fd5-81b1-4e6c-fdf9-9848e3f4eaf5"
      },
      "execution_count": null,
      "outputs": [
        {
          "output_type": "stream",
          "name": "stdout",
          "text": [
            "Starting engine of the vehicle...\n",
            "Starting engine of the car... Vroom!\n",
            "Starting engine of the motorcycle... Vroooom!\n"
          ]
        }
      ]
    },
    {
      "cell_type": "code",
      "source": [
        "##.43.DEFINE A BASE CLASS AND MULTIPLE SUBCLASS WITH OVERRIDDEN METHODS.\n",
        "\n",
        "class Animal:\n",
        "    def make_sound(self):\n",
        "        \"\"\"Base class method to make a generic animal sound.\"\"\"\n",
        "        print(\"Some generic animal sound\")\n",
        "\n",
        "class Dog(Animal):\n",
        "    def make_sound(self):\n",
        "        \"\"\"Subclass method that overrides the base class method.\"\"\"\n",
        "        print(\"Woof!\")\n",
        "\n",
        "class Cat(Animal):\n",
        "    def make_sound(self):\n",
        "        \"\"\"Subclass method that overrides the base class method.\"\"\"\n",
        "        print(\"Meow!\")\n",
        "\n",
        "class Cow(Animal):\n",
        "    def make_sound(self):\n",
        "        \"\"\"Subclass method that overrides the base class method.\"\"\"\n",
        "        print(\"Moo!\")\n",
        "\n",
        "animal = Animal()\n",
        "dog = Dog()\n",
        "cat = Cat()\n",
        "cow = Cow()\n",
        "\n",
        "animal.make_sound()\n",
        "dog.make_sound()\n",
        "\n"
      ],
      "metadata": {
        "id": "n_F24ZYjh1kJ"
      },
      "execution_count": null,
      "outputs": []
    },
    {
      "cell_type": "code",
      "source": [
        "##.44.HOW DOES POLYMORPHISM IMPROVE CODE READABILITY AND REUSABILITY?\n",
        "#Polymorphism improves code readability and reusability by allowing objects of different types to be\n",
        "#treated uniformly through a common interface, leading to cleaner, more flexible, and maintainable\n",
        "#code."
      ],
      "metadata": {
        "id": "KdajabNQiXQX"
      },
      "execution_count": null,
      "outputs": []
    },
    {
      "cell_type": "code",
      "source": [
        "##.45.DESCRIBE HOW PYTHON SUPPORTS POLYMORPHISM WITH DUCK TYPING.\n",
        "#In duck typing, any object that implements the required methods can be used, regardless of its class\n",
        "#or inheritance hierarchy. This provides flexibility and allows polymorphic behavior without\n",
        "#requiring formal inheritance or the implementation of specific interfaces.\n",
        "# Define a function that expects an object that can \"quack\"\n",
        "def make_it_quack(duck):\n",
        "    duck.quack()\n",
        "\n",
        "class Duck:\n",
        "    def quack(self):\n",
        "        print(\"Quack!\")\n",
        "\n",
        "class Person:\n",
        "    def quack(self):\n",
        "        print(\"I'm quacking like a duck!\")\n",
        "\n",
        "duck = Duck()\n",
        "person = Person()\n",
        "\n",
        "make_it_quack(duck)\n",
        "make_it_quack(person)\n"
      ],
      "metadata": {
        "id": "9gW9Oe8xilTj"
      },
      "execution_count": null,
      "outputs": []
    },
    {
      "cell_type": "code",
      "source": [
        "##.46.HOW DO YOU ACCHIVE ENCAPSULATION IN PYTHON?\n",
        "#In Python, encapsulation is achieved by controlling access to the internal data and methods of a\n",
        "#class, protecting them from being accessed or modified directly. This is typically done using access\n",
        "#control mechanisms like private and protected attributes and methods.\n",
        "\n",
        "class Car:\n",
        "    def __init__(self, brand, model):\n",
        "        self.brand = brand\n",
        "        self.model = model\n",
        "\n",
        "    def display_info(self):\n",
        "        \"\"\"Public method\"\"\"\n",
        "        print(f\"Car: {self.brand} {self.model}\")\n",
        "\n",
        "\n",
        "my_car = Car(\"Toyota\", \"Corolla\")\n",
        "my_car.display_info()\n",
        "print(my_car.brand)\n"
      ],
      "metadata": {
        "id": "BnIU-Yzsi4cM"
      },
      "execution_count": null,
      "outputs": []
    },
    {
      "cell_type": "code",
      "source": [
        "##.47.CAN ENCAPSULATION BE BYPASSED IN PYTHON ? IF SO HOW?\n",
        "#Yes, encapsulation in Python can be bypassed, primarily because Python's access control\n",
        "#(especially with \"protected\" and \"private\" attributes) relies on conventions rather than strict\n",
        "# enforcement. This means that while encapsulation is meant to protect certain parts of a class,\n",
        "#it can be circumvented.\n",
        "\n",
        "class Car:\n",
        "    def __init__(self, brand):\n",
        "        self._brand = brand\n",
        "\n",
        "my_car = Car(\"Toyota\")\n",
        "\n",
        "print(my_car._brand)\n"
      ],
      "metadata": {
        "colab": {
          "base_uri": "https://localhost:8080/"
        },
        "id": "euT7F4gBi6ZD",
        "outputId": "74e509de-47cc-4689-dc0f-c2580f3f1012"
      },
      "execution_count": null,
      "outputs": [
        {
          "output_type": "stream",
          "name": "stdout",
          "text": [
            "Toyota\n"
          ]
        }
      ]
    },
    {
      "cell_type": "code",
      "source": [
        "##.48.IMPLEMENTED A CLASS BANKACCOUNT WITH PRIVATE BALANCE ATTRIBUTE.INCLUDE METHODS TO DEPOSIT,WITHDRAW, AND CHECK THE BALANCE.\n",
        "class BankAccount:\n",
        "    def __init__(self, initial_balance=0):\n",
        "        \"\"\"Constructor to initialize a BankAccount with an optional initial balance.\"\"\"\n",
        "        self.__balance = initial_balance\n",
        "\n",
        "    def deposit(self, amount):\n",
        "        \"\"\"Method to deposit an amount into the account.\"\"\"\n",
        "        if amount > 0:\n",
        "            self.__balance += amount\n",
        "            print(f\"Deposited: ${amount}\")\n",
        "        else:\n",
        "            print(\"Deposit amount must be positive\")\n",
        "\n",
        "    def withdraw(self, amount):\n",
        "        \"\"\"Method to withdraw an amount from the account, if sufficient balance exists.\"\"\"\n",
        "        if 0 < amount <= self.__balance:\n",
        "            self.__balance -= amount\n",
        "            print(f\"Withdrew: ${amount}\")\n",
        "        elif amount > self.__balance:\n",
        "            print(\"Insufficient balance\")\n",
        "        else:\n",
        "            print(\"Withdrawal amount must be positive\")\n",
        "\n",
        "    def check_balance(self):\n",
        "        \"\"\"Method to return the current balance.\"\"\"\n",
        "        return f\"Current balance: ${self.__balance}\"\n",
        "\n",
        "account = BankAccount(100)\n",
        "\n",
        "account.deposit(50)\n",
        "print(account.check_balance())\n",
        "\n",
        "account.withdraw(30)\n",
        "print(account.check_balance())\n",
        "\n",
        "account.withdraw(200)\n",
        "\n",
        "print(account.check_balance())\n"
      ],
      "metadata": {
        "colab": {
          "base_uri": "https://localhost:8080/"
        },
        "id": "DuTX4QcLi7pb",
        "outputId": "9e9ced3d-e970-4475-aac8-2e68acc616ae"
      },
      "execution_count": null,
      "outputs": [
        {
          "output_type": "stream",
          "name": "stdout",
          "text": [
            "Deposited: $50\n",
            "Current balance: $150\n",
            "Withdrew: $30\n",
            "Current balance: $120\n",
            "Insufficient balance\n",
            "Current balance: $120\n"
          ]
        }
      ]
    },
    {
      "cell_type": "code",
      "source": [
        "##.49.DEVELOP A PERSON CLASS WITH PRIVATE ATTRIBUTE NAME EMAIL,AND METHOD TO SET AND GET THE EMAIL.\n",
        "class Person:\n",
        "    def __init__(self, name, email):\n",
        "        \"\"\"Constructor to initialize a Person with a name and email.\"\"\"\n",
        "        self.__name = name\n",
        "        self.__email = email\n",
        "\n",
        "    def set_email(self, new_email):\n",
        "        \"\"\"Method to update the email of the person.\"\"\"\n",
        "        if \"@\" in new_email and \".\" in new_email:\n",
        "            self.__email = new_email\n",
        "            print(f\"Email updated to: {new_email}\")\n",
        "        else:\n",
        "            print(\"Invalid email format\")\n",
        "\n",
        "    def get_email(self):\n",
        "        \"\"\"Method to retrieve the person's email.\"\"\"\n",
        "        return self.__email\n",
        "\n",
        "    def get_name(self):\n",
        "        \"\"\"Method to retrieve the person's name (optional).\"\"\"\n",
        "        return self.__name\n",
        "\n",
        "person = Person(\"John Doe\", \"john@example.com\")\n",
        "\n",
        "print(f\"Initial email: {person.get_email()}\")\n",
        "\n",
        "person.set_email(\"john.doe@example.com\")\n",
        "\n",
        "print(f\"Updated email: {person.get_email()}\")\n",
        "\n",
        "person.set_email(\"invalid-email\")\n"
      ],
      "metadata": {
        "colab": {
          "base_uri": "https://localhost:8080/"
        },
        "id": "QNhEJQ_bi890",
        "outputId": "11815dd1-9907-46a5-89cd-a911e8a869d9"
      },
      "execution_count": null,
      "outputs": [
        {
          "output_type": "stream",
          "name": "stdout",
          "text": [
            "Initial email: john@example.com\n",
            "Email updated to: john.doe@example.com\n",
            "Updated email: john.doe@example.com\n",
            "Invalid email format\n"
          ]
        }
      ]
    },
    {
      "cell_type": "code",
      "source": [
        "##.50.WHY IS ENCAPSULATION CONSIDERED A PILLAR OF OOP?\n",
        "#Encapsulation is considered a fundamental pillar of Object-Oriented Programming (OOP) because it\n",
        "#helps to organize and protect data and functionality within a class, ensuring that the internal\n",
        "#workings of objects are hidden from the outside world.\n"
      ],
      "metadata": {
        "id": "e_vzeXmwi_It"
      },
      "execution_count": null,
      "outputs": []
    },
    {
      "cell_type": "code",
      "source": [
        "##.51.CREATE A DECORATOR IN PYTHON THAT ADDS FUNCTIONALITY TO A SIMPLE FUNCTIONBY PRINTING AA MESSAGE BEFORE AND AFTER THE FUNCTION EXECUTION.\n",
        "def print_message(func):\n",
        "    def wrapper(*args, **kwargs):\n",
        "        print(\"Before function execution\")\n",
        "        result = func(*args, **kwargs)\n",
        "        print(\"After function execution\")\n",
        "        return result\n",
        "    return wrapper\n",
        "\n",
        "@print_message\n",
        "def my_function():\n",
        "    print(\"Inside the function\")\n",
        "\n",
        "my_function()"
      ],
      "metadata": {
        "colab": {
          "base_uri": "https://localhost:8080/"
        },
        "id": "tzZJjjkqj8Xc",
        "outputId": "b257629a-7b79-4442-fdc0-35e2e78ae235"
      },
      "execution_count": null,
      "outputs": [
        {
          "output_type": "stream",
          "name": "stdout",
          "text": [
            "Before function execution\n",
            "Inside the function\n",
            "After function execution\n"
          ]
        }
      ]
    },
    {
      "cell_type": "code",
      "source": [
        "##.52.MODIFY THE DECORATOR TO ACCEPT ARGUMENTS AND PRINT THE FUNCTION NAME ALONG WITH THE MESSAGE.\n",
        "def my_decorator(message_before, message_after):\n",
        "    def decorator(func):\n",
        "        def wrapper(*args, **kwargs):\n",
        "            print(f\"{message_before} - Function: {func.__name__}\")\n",
        "            result = func(*args, **kwargs)\n",
        "            print(f\"{message_after} - Function: {func.__name__}\")\n",
        "            return result\n",
        "        return wrapper\n",
        "    return decorator\n",
        "\n",
        "\n"
      ],
      "metadata": {
        "id": "owlGhI_gCU-b"
      },
      "execution_count": null,
      "outputs": []
    },
    {
      "cell_type": "code",
      "source": [
        "##53.CREATE TWO DECORATOR,AND APPLY THEM TO A SINGLE FUNCTION.ENSURE THAT THEY EXECUTE IN THE ORDER THEY ARE APPLIED.\n",
        "def decorator_one(message):\n",
        "    def decorator(func):\n",
        "        def wrapper(*args, **kwargs):\n",
        "            print(f\"Decorator One: {message} - Before {func.__name__}\")\n",
        "            result = func(*args, **kwargs)\n",
        "            print(f\"Decorator One: {message} - After {func.__name__}\")\n",
        "            return result\n",
        "        return wrapper\n",
        "    return decorator\n",
        "\n",
        "def decorator_two(message):\n",
        "    def decorator(func):\n",
        "        def wrapper(*args, **kwargs):\n",
        "            print(f\"Decorator Two: {message} - Before {func.__name__}\")\n",
        "            result = func(*args, **kwargs)\n",
        "            print(f\"Decorator Two: {message} - After {func.__name__}\")\n",
        "            return result\n",
        "        return wrapper\n",
        "    return decorator\n",
        "\n"
      ],
      "metadata": {
        "id": "YnlTJuX9CZfo"
      },
      "execution_count": null,
      "outputs": []
    },
    {
      "cell_type": "code",
      "source": [
        "##54.MODIFY THE DECORATOR TO ACCEPT AND PASS FUNCTION ARGUMENTS TO THE WRAPPED FUNCTION.\n",
        "def decorator_one(message):\n",
        "    def decorator(func):\n",
        "        def wrapper(*args, **kwargs):\n",
        "            print(f\"Decorator One: {message} - Before {func.__name__}\")\n",
        "            result = func(*args, **kwargs)\n",
        "            print(f\"Decorator One: {message} - After {func.__name__}\")\n",
        "            return result\n",
        "        return wrapper\n",
        "    return decorator\n",
        "\n",
        "def decorator_two(message):\n",
        "    def decorator(func):\n",
        "        def wrapper(*args, **kwargs):\n",
        "            print(f\"Decorator Two: {message} - Before {func.__name__}\")\n",
        "            result = func(*args, **kwargs)\n",
        "            print(f\"Decorator Two: {message} - After {func.__name__}\")\n",
        "            return result\n",
        "        return wrapper\n",
        "    return decorator\n"
      ],
      "metadata": {
        "id": "xFHGqkmcCcXk"
      },
      "execution_count": null,
      "outputs": []
    },
    {
      "cell_type": "code",
      "source": [
        "##55.CREATE A DECORATOR THAT PRESERVES THE METADATA OF THE ORIGINAL FUNCTION .\n",
        "import functools\n",
        "\n",
        "def preserve_metadata(func):\n",
        "    @functools.wraps(func)\n",
        "    def wrapper(*args, **kwargs):\n",
        "        \"\"\"Wrapper function for preserving metadata.\"\"\"\n",
        "        result = func(*args, **kwargs)\n",
        "        return result\n",
        "    return wrapper"
      ],
      "metadata": {
        "id": "qJTGEVcmCdyz"
      },
      "execution_count": null,
      "outputs": []
    },
    {
      "cell_type": "code",
      "source": [
        "##56.CREATE A PYTHON CLASS 'CALCULATOR' WITH A CLASS 'METHOD' WITH A STATIC METHOD 'ADD'THAT TAKES A STRING AS INPUT AND RETURNS THEIR SUM\n",
        "class Calculator:\n",
        "    @staticmethod\n",
        "    def add(string):\n",
        "        numbers = [float(num) for num in string.split()]\n",
        "        return sum(numbers)"
      ],
      "metadata": {
        "id": "fNnU0hAPCfR_"
      },
      "execution_count": null,
      "outputs": []
    },
    {
      "cell_type": "code",
      "source": [
        "##57.CREATE A PYTHON CLASS 'EMPLOYEE' WITH A CLASS 'METHOD 'WITH A CLASS 'METHOD GET_EMPLOYEE_COUNT' THAT RETURNS THE TOTAL NUMBERS OF EMPLOYEES CREATED.\n",
        "class Employee:\n",
        "    count = 0\n",
        "\n",
        "    def __init__(self, name):\n",
        "        self.name = name\n",
        "        Employee.count += 1\n",
        "\n",
        "    @classmethod\n",
        "    def get_employee_count(cls):\n",
        "        return cls.count"
      ],
      "metadata": {
        "id": "vE8m9UYSCgj1"
      },
      "execution_count": null,
      "outputs": []
    },
    {
      "cell_type": "code",
      "source": [
        "##58.CREATE A PYTHON CLASS 'STRINGFORMATTER' WITH A STATIC METHOD 'REVERSE_STRING' THAT TAKES A STRING AS INPUT.\n",
        "class StringFormatter:\n",
        "    @staticmethod\n",
        "    def reverse_string(input_string):\n",
        "        return input_string[::-1]"
      ],
      "metadata": {
        "id": "NzvaVYEXChyQ"
      },
      "execution_count": null,
      "outputs": []
    },
    {
      "cell_type": "code",
      "source": [
        "##59.CREATE A PYTHON CLASS 'STRINGFORMATTER' WITH A STATIC METHOD 'REVERSE_STRING' THAT TAKES A STRING A STRING AS INPUT AND RETURN ITS REVERSE.\n",
        "class StringFormatter:\n",
        "    @staticmethod\n",
        "    def reverse_string(input_string):\n",
        "        return input_string[::-1]"
      ],
      "metadata": {
        "id": "RIAmYfd7Cisx"
      },
      "execution_count": null,
      "outputs": []
    },
    {
      "cell_type": "code",
      "source": [
        "##60.CREATE A PYTHON CLASS 'TEMPERATURCONVERTER' WITH A STATIC METHOD 'CELCIUS_TO_FAHRENHEIT' THAT CONVERTS CELCIUS TO FAHRENHEIT.\n",
        "class TemperatureConverter:\n",
        "    @staticmethod\n",
        "    def celsius_to_fahrenheit(celsius):\n",
        "        return (celsius * 9/5) + 32"
      ],
      "metadata": {
        "id": "TkbkZx5ICjsI"
      },
      "execution_count": null,
      "outputs": []
    },
    {
      "cell_type": "code",
      "source": [
        "##61.WHAT IS THE PURPOSE OF THE _ _STR_ _() METHOD IN PYTHON CLASSES? PROVIDE AN EXAMPLE.\n",
        "#The __str__() method in Python classes is used to define a human-readable string representation of\n",
        "#an object. This method is called when you use the str() function or the print() function on an\n",
        "#instance of the class. Its purpose is to provide a clear and informative string that describes\n",
        "# the object, making it easier to understand and debug.\n",
        "class Person:\n",
        "    def __init__(self, name, age):\n",
        "        self.name = name\n",
        "        self.age = age\n",
        "\n",
        "    def __str__(self):\n",
        "        return f\"Person(name={self.name}, age={self.age})\"\n",
        "\n",
        "person = Person(\"Alice\", 30)\n",
        "\n",
        "print(person)\n",
        "\n",
        "person_str = str(person)\n",
        "print(person_str)\n"
      ],
      "metadata": {
        "colab": {
          "base_uri": "https://localhost:8080/"
        },
        "id": "cQqbBaroCkw5",
        "outputId": "8ea05182-a19e-45b0-a243-ec97dfdf79a3"
      },
      "execution_count": null,
      "outputs": [
        {
          "output_type": "stream",
          "name": "stdout",
          "text": [
            "Person(name=Alice, age=30)\n",
            "Person(name=Alice, age=30)\n"
          ]
        }
      ]
    },
    {
      "cell_type": "code",
      "source": [
        "##62.HOW DOES THE _ _LEN_ _() METHOD WORK IN PYTHON? PROVIDE AN EXAMPLE\n",
        "#The __len__() method in Python is a special method that is used to return the length of an object.\n",
        "#This method is called by the built-in len() function to determine the number of items in an object.\n",
        "#It is typically implemented in classes that represent collections or sequences, such as lists,\n",
        "#tuples, or custom container classes.\n",
        "class Box:\n",
        "    def __init__(self, items):\n",
        "        self.items = items\n",
        "\n",
        "    def __len__(self):\n",
        "        return len(self.items)\n",
        "\n",
        "box = Box([\"apple\", \"banana\", \"cherry\"])\n",
        "\n",
        "print(len(box))\n",
        "\n",
        "print(box.__len__())\n",
        "\n"
      ],
      "metadata": {
        "colab": {
          "base_uri": "https://localhost:8080/"
        },
        "id": "XQNRCAFJCmZ0",
        "outputId": "e1a70f96-05d1-47ca-fc54-8b733e6b3287"
      },
      "execution_count": null,
      "outputs": [
        {
          "output_type": "stream",
          "name": "stdout",
          "text": [
            "3\n",
            "3\n"
          ]
        }
      ]
    },
    {
      "cell_type": "code",
      "source": [
        "##63.EXPLAIN THE USAGE OF THE _ _ADD_ _() METHOD WORK IN PYTHON ? PROVIDE AN EXAMPLE.\n",
        "#The __add__() method in Python is a special method used to define the behavior\n",
        "#of the addition operator (+) for objects of a custom class. When you use the +\n",
        "#operator between two objects, Python internally calls the __add__() method of\n",
        "#the left operand to perform the addition.\n",
        "\n",
        "class Vector:\n",
        "    def __init__(self, x, y):\n",
        "        self.x = x\n",
        "        self.y = y\n",
        "\n",
        "    def __add__(self, other):\n",
        "        if isinstance(other, Vector):\n",
        "            return Vector(self.x + other.x, self.y + other.y)\n",
        "        return NotImplemented\n",
        "\n",
        "    def __str__(self):\n",
        "        return f\"Vector({self.x}, {self.y})\"\n",
        "\n",
        "v1 = Vector(2, 3)\n",
        "v2 = Vector(4, 1)\n",
        "\n",
        "v3 = v1 + v2\n",
        "\n",
        "print(v3)\n"
      ],
      "metadata": {
        "colab": {
          "base_uri": "https://localhost:8080/"
        },
        "id": "_QtdPIQXCnjc",
        "outputId": "2820ba26-3635-4904-a988-c349bd69743f"
      },
      "execution_count": null,
      "outputs": [
        {
          "output_type": "stream",
          "name": "stdout",
          "text": [
            "Vector(6, 4)\n"
          ]
        }
      ]
    },
    {
      "cell_type": "code",
      "source": [
        "##64.WHAT IS THE PURPOSE OF THE_ _getitem_ _() METHOD IN PYTHON. PROVIDE AN EXAMPLE.\n",
        "#The __getitem__() method in Python is used to define how an object handles\n",
        "#indexing and slicing. When you use square brackets ([]) to access an item in a\n",
        "#list, tuple, or dictionary, Python internally calls the __getitem__() method.\n",
        "#By implementing this method in a custom class, you can make objects of that\n",
        "#class behave like containers (lists, dictionaries, etc.) and allow them to be\n",
        "#indexed or sliced\n",
        "class MyList:\n",
        "    def __init__(self, items):\n",
        "        self.items = items\n",
        "\n",
        "    def __getitem__(self, index):\n",
        "        return self.items[index]\n",
        "\n",
        "my_list = MyList([10, 20, 30, 40, 50])\n",
        "\n",
        "print(my_list[1])\n",
        "print(my_list[3])\n",
        "\n",
        "print(my_list[1:4])\n"
      ],
      "metadata": {
        "id": "lwAMbXd_Co3P"
      },
      "execution_count": null,
      "outputs": []
    },
    {
      "cell_type": "code",
      "source": [
        "##65.EXPLAIN THE USAGE OF THE _ _iter_ _ AND _ _next_ _() method in python. provide an example using iterators.\n",
        "The __iter__() and __next__() methods in Python are part of the iterator\n",
        "protocol, which allows objects to be iterated over, such as in a for loop.\n",
        "When you implement these methods in a class, you can make the class behave\n",
        "like an iterator, allowing you to traverse through its elements one by one.\n",
        "\n",
        "class Countdown:\n",
        "    def __init__(self, start):\n",
        "        self.current = start\n",
        "\n",
        "    def __iter__(self):\n",
        "\n",
        "        return self\n",
        "\n",
        "    def __next__(self):\n",
        "\n",
        "        if self.current <= 0:\n",
        "            raise StopIteration\n",
        "        else:\n",
        "            self.current -= 1\n",
        "            return self.current + 1\n",
        "\n",
        "countdown = Countdown(5)\n",
        "\n",
        "for num in countdown:\n",
        "    print(num)\n"
      ],
      "metadata": {
        "colab": {
          "base_uri": "https://localhost:8080/",
          "height": 106
        },
        "id": "XMhGsVOnCqQn",
        "outputId": "c9918130-710f-41db-cb31-d5d238b60324"
      },
      "execution_count": null,
      "outputs": [
        {
          "output_type": "error",
          "ename": "SyntaxError",
          "evalue": "invalid syntax (<ipython-input-3-e1a9a8946bda>, line 2)",
          "traceback": [
            "\u001b[0;36m  File \u001b[0;32m\"<ipython-input-3-e1a9a8946bda>\"\u001b[0;36m, line \u001b[0;32m2\u001b[0m\n\u001b[0;31m    The __iter__() and __next__() methods in Python are part of the iterator\u001b[0m\n\u001b[0m        ^\u001b[0m\n\u001b[0;31mSyntaxError\u001b[0m\u001b[0;31m:\u001b[0m invalid syntax\n"
          ]
        }
      ]
    },
    {
      "cell_type": "code",
      "source": [
        "##66.WHAT IS THE PURPOSE OF A GETTER METHOD IN PYTHON ? PROVIDE AN EXAMPLE DEMONSTRATING THE USE OF A GETTER METHOD USING PROPERTY DECORATORS.\n",
        "#The purpose of a getter method in Python is to provide controlled access to an\n",
        "#attribute of a class. Getter methods allow you to access a private or protected\n",
        "#attribute of an object in a way that ensures encapsulation, hiding the\n",
        "#internal implementation details and offering flexibility for future changes\n",
        "#(such as validation or modification of data before returning it).\n",
        "\n",
        "#In Python, you can implement getter methods using the @property decorator.\n",
        "# The @property decorator makes an instance method behave like an attribute,\n",
        "#allowing access to it without needing parentheses (i.e., as if it's a normal\n",
        "# attribute).\n",
        "class Person:\n",
        "    def __init__(self, name, age):\n",
        "        self._name = name\n",
        "        self._age = age\n",
        "\n",
        "    @property\n",
        "    def name(self):\n",
        "        return self._name\n",
        "\n",
        "    @property\n",
        "    def age(self):\n",
        "        return self._age\n",
        "\n",
        "person = Person(\"Alice\", 30)\n",
        "\n",
        "print(person.name)\n",
        "print(person.age)\n"
      ],
      "metadata": {
        "id": "7_r1WjPGCrWd"
      },
      "execution_count": null,
      "outputs": []
    },
    {
      "cell_type": "code",
      "source": [
        "##67.EXPLAIN THE ROLE OF SETTER METHOD IN PYTHON.DEMONSTRATE HOW TO USE A SETTER METHOD TO MODIFY A CLASS ATTRIBUTE USING PROPERTYDECORATORS\n",
        "#Setter methods in Python are used to control how the value of a class attribute\n",
        "#is modified. They allow you to validate or modify the input before updating the\n",
        "#value of an attribute. Like getter methods, setters help achieve encapsulation,\n",
        "# ensuring that attributes can be modified only through controlled interfaces.\n",
        "\n",
        "#In Python, setter methods can be implemented using the @property decorator along\n",
        "#with the @<property_name>.setter decorator. This allows you to manage how\n",
        "#attributes are set and ensures that the internal state of an object is\n",
        "#maintained correctly\n",
        "class Person:\n",
        "    def __init__(self, name, age):\n",
        "        self._name = name\n",
        "        self._age = age\n",
        "\n",
        "    @property\n",
        "    def name(self):\n",
        "        return self._name\n",
        "\n",
        "    @property\n",
        "    def age(self):\n",
        "        return self._age\n",
        "\n",
        "    @age.setter\n",
        "    def age(self, value):\n",
        "        if value < 0:\n",
        "            raise ValueError(\"Age cannot be negative.\")\n",
        "        self._age = value\n",
        "\n",
        "person = Person(\"Alice\", 30)\n",
        "\n",
        "person.age = 35\n",
        "print(person.age)\n",
        "\n",
        "try:\n",
        "    person.age = -5\n",
        "except ValueError as e:\n",
        "    print(e)\n"
      ],
      "metadata": {
        "colab": {
          "base_uri": "https://localhost:8080/"
        },
        "id": "k-s0aysdCthz",
        "outputId": "0c898d54-6d4c-4247-a2af-166cd430c441"
      },
      "execution_count": null,
      "outputs": [
        {
          "output_type": "stream",
          "name": "stdout",
          "text": [
            "35\n",
            "Age cannot be negative.\n"
          ]
        }
      ]
    },
    {
      "cell_type": "code",
      "source": [
        "##68.WHAT IS THE PURPOSE OF THE @PROPERTY DECORATOR IN PYTHON. PROVIDE AN EXAMPLE ILLUSRATING ITS USAGE.\n",
        "#The @property decorator in Python is used to define getter methods that allow\n",
        "#you to access attributes of a class in a controlled way, while still\n",
        "#maintaining the simplicity of attribute access (i.e., without parentheses).\n",
        "# It is commonly used to provide encapsulation, enabling class attributes to be\n",
        "#accessed, validated, or computed dynamically, without exposing the underlying\n",
        "#data directly\n",
        "class Rectangle:\n",
        "    def __init__(self, width, height):\n",
        "        self._width = width\n",
        "        self._height = height\n",
        "\n",
        "\n",
        "    @property\n",
        "    def width(self):\n",
        "        return self._width\n",
        "\n",
        "\n",
        "    @width.setter\n",
        "    def width(self, value):\n",
        "        if value <= 0:\n",
        "            raise ValueError(\"Width must be positive.\")\n",
        "        self._width = value\n",
        "\n",
        "\n",
        "    @property\n",
        "    def height(self):\n",
        "        return self._height\n",
        "\n",
        "\n",
        "    @height.setter\n",
        "    def height(self, value):\n",
        "        if value <= 0:\n",
        "            raise ValueError(\"Height must be positive.\")\n",
        "        self._height = value\n",
        "\n",
        "\n",
        "    @property\n",
        "    def area(self):\n",
        "        return self._width * self._height\n",
        "\n",
        "\n",
        "    @property\n",
        "    def perimeter(self):\n",
        "        return 2 * (self._width + self._height)\n",
        "\n",
        "rect = Rectangle(5, 10)\n",
        "\n",
        "print(\"Height:\", rect.height)\n",
        "print(\"Area:\", rect.area)\n",
        "print(\"Perimeter:\", rect.perimeter)\n",
        "\n",
        "\n",
        "rect.width = 8\n",
        "rect.height = 12\n",
        "\n",
        "print(\"New Area:\", rect.area)\n",
        "print(\"New Perimeter:\", rect.perimeter)\n",
        "\n",
        "try:\n",
        "    rect.width = -3\n",
        "except ValueError as e:\n",
        "    print(e)\n",
        "\n"
      ],
      "metadata": {
        "colab": {
          "base_uri": "https://localhost:8080/"
        },
        "id": "U9fFlGN1Cuvi",
        "outputId": "374f3634-583a-49f3-b19d-f393fb413a7a"
      },
      "execution_count": null,
      "outputs": [
        {
          "output_type": "stream",
          "name": "stdout",
          "text": [
            "Height: 10\n",
            "Area: 50\n",
            "Perimeter: 30\n",
            "New Area: 96\n",
            "New Perimeter: 40\n",
            "Width must be positive.\n"
          ]
        }
      ]
    },
    {
      "cell_type": "code",
      "source": [
        "##69.EXPLAIN THE USE OF @deleter DECORATOR IN PYTHON PROPERTY DECORATOR.PROVIDE A CODE EXAMPLE DEMONSTRING ITS APPLICATION.\n",
        "#The @deleter decorator in Python is used in conjunction with the @property\n",
        "#decorator to define a deleter method for a property. It allows you to control\n",
        "#how an attribute is deleted, providing a clean interface to manage resource\n",
        "#cleanup, additional logic, or restrictions when attempting to delete an\n",
        "#attribute.\n",
        "class Person:\n",
        "    def __init__(self, name):\n",
        "        self._name = name\n",
        "\n",
        "\n",
        "    @property\n",
        "    def name(self):\n",
        "        return self._name\n",
        "\n",
        "\n",
        "    @name.setter\n",
        "    def name(self, value):\n",
        "        if not isinstance(value, str) or len(value.strip()) == 0:\n",
        "            raise ValueError(\"Name must be a non-empty string.\")\n",
        "        self._name = value\n",
        "\n",
        "\n",
        "    @name.deleter\n",
        "    def name(self):\n",
        "        print(f\"Deleting name: {self._name}\")\n",
        "        self._name = None\n",
        "\n",
        "person = Person(\"Alice\")\n",
        "\n",
        "\n",
        "print(person.name)\n",
        "\n",
        "person.name = \"Bob\"\n",
        "print(person.name)\n",
        "\n",
        "del person.name\n",
        "print(person.name)\n"
      ],
      "metadata": {
        "colab": {
          "base_uri": "https://localhost:8080/"
        },
        "id": "iOSgXyI2CxTl",
        "outputId": "b47fa61b-d0d5-4d92-f252-0f7da5b1ef5a"
      },
      "execution_count": null,
      "outputs": [
        {
          "output_type": "stream",
          "name": "stdout",
          "text": [
            "Alice\n",
            "Bob\n",
            "Deleting name: Bob\n",
            "None\n"
          ]
        }
      ]
    },
    {
      "cell_type": "code",
      "source": [
        "##70.HOW DOES ENCAPSULATION RELATE TO PROPERTY DECORATORS IN PYTHON? PROVIDE AN EXAMPLE SHOWCASING ENCAPSULATION USING PROPERTY DECORATORS\n",
        "#Property decorators (@property, @<property_name>.setter, and @<property_name>.\n",
        "#deleter) in Python help achieve encapsulation by enabling controlled access to\n",
        "#private attributes. This means you can create methods that manage how attributes\n",
        "# are accessed, modified, and deleted while keeping the internal implementation\n",
        "#details hidden. The use of property decorators allows the developer to control\n",
        "# access without needing to change the way the attributes are accessed by the\n",
        "# code (as if they were regular attributes).\n",
        "class Employee:\n",
        "    def __init__(self, name, salary):\n",
        "        self._name = name\n",
        "        self._salary = salary\n",
        "\n",
        "\n",
        "    @property\n",
        "    def name(self):\n",
        "        return self._name\n",
        "\n",
        "    @name.setter\n",
        "    def name(self, value):\n",
        "        if not isinstance(value, str) or len(value.strip()) == 0:\n",
        "            raise ValueError(\"Name must be a non-empty string.\")\n",
        "        self._name = value\n",
        "\n",
        "    @property\n",
        "    def salary(self):\n",
        "        return self._salary\n",
        "\n",
        "    @salary.setter\n",
        "    def salary(self, value):\n",
        "        if value < 0:\n",
        "            raise ValueError(\"Salary must be a positive number.\")\n",
        "        self._salary = value\n",
        "\n",
        "employee = Employee(\"John Doe\", 50000)\n",
        "\n",
        "print(f\"Name: {employee.name}\")\n",
        "print(f\"Salary: {employee.salary}\")\n",
        "\n",
        "\n",
        "employee.name = \"Jane Doe\"\n",
        "employee.salary = 60000\n",
        "\n",
        "print(f\"Updated Name: {employee.name}\")\n",
        "print(f\"Updated Salary: {employee.salary}\")\n",
        "\n",
        "try:\n",
        "    employee.salary = -5000\n",
        "except ValueError as e:\n",
        "    print(e)\n"
      ],
      "metadata": {
        "colab": {
          "base_uri": "https://localhost:8080/"
        },
        "id": "C84Dh_UaCy4I",
        "outputId": "006967d0-9409-4c08-a796-bd63f2900246"
      },
      "execution_count": null,
      "outputs": [
        {
          "output_type": "stream",
          "name": "stdout",
          "text": [
            "Name: John Doe\n",
            "Salary: 50000\n",
            "Updated Name: Jane Doe\n",
            "Updated Salary: 60000\n",
            "Salary must be a positive number.\n"
          ]
        }
      ]
    },
    {
      "cell_type": "code",
      "source": [],
      "metadata": {
        "id": "hPai0vTrZuvn"
      },
      "execution_count": null,
      "outputs": []
    }
  ]
}